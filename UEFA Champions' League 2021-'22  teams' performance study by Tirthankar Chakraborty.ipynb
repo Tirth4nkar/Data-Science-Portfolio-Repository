{
 "cells": [
  {
   "cell_type": "markdown",
   "id": "d2f670e9",
   "metadata": {},
   "source": [
    "## Setting up the model"
   ]
  },
  {
   "cell_type": "code",
   "execution_count": 1,
   "id": "cfe29cdb",
   "metadata": {},
   "outputs": [],
   "source": [
    "import os\n",
    "import numpy as np\n",
    "import pandas as pd\n",
    "import matplotlib.pyplot as plt\n",
    "import seaborn as sns"
   ]
  },
  {
   "cell_type": "code",
   "execution_count": 2,
   "id": "152d5469",
   "metadata": {},
   "outputs": [],
   "source": [
    "%matplotlib inline"
   ]
  },
  {
   "cell_type": "code",
   "execution_count": 3,
   "id": "207d7ac5",
   "metadata": {},
   "outputs": [
    {
     "name": "stdout",
     "output_type": "stream",
     "text": [
      "data imported!\n"
     ]
    }
   ],
   "source": [
    "df=pd.read_csv(r'C:\\Users\\Tirthankar\\Documents\\Projects\\Datasheets\\ucl.csv')\n",
    "print('data imported!')"
   ]
  },
  {
   "cell_type": "code",
   "execution_count": 4,
   "id": "592b13b7",
   "metadata": {},
   "outputs": [
    {
     "name": "stdout",
     "output_type": "stream",
     "text": [
      "    Rk              Squad   MP    W    D    L    GF   GA    GD   Pts    xG  \\\n",
      "0  R16  de  Bayern Munich  6.0  6.0  0.0  0.0  22.0  3.0  19.0  18.0  13.9   \n",
      "1  R16           nl  Ajax  6.0  6.0  0.0  0.0  20.0  5.0  15.0  18.0  16.3   \n",
      "2  R16     eng  Liverpool  6.0  6.0  0.0  0.0  17.0  6.0  11.0  18.0  11.6   \n",
      "3  R16    es  Real Madrid  6.0  5.0  0.0  1.0  14.0  3.0  11.0  15.0  11.7   \n",
      "4  R16       it  Juventus  6.0  5.0  0.0  1.0  10.0  6.0   4.0  15.0  10.9   \n",
      "\n",
      "   xGA   xGD  xGD/90     Last 5  Attendance         Top Team Scorer  \\\n",
      "0  3.4  10.5    1.75  W W W W W     25000.0  Robert Lewandowski - 9   \n",
      "1  6.4   9.9    1.65  W W W W L     35552.0   Sébastien Haller - 10   \n",
      "2  5.8   5.8    0.97  W W W W W     51667.0       Mohamed Salah - 7   \n",
      "3  5.9   5.9    0.98  W W W W W     35838.0       Karim Benzema - 5   \n",
      "4  6.1   4.8    0.79  W W W D W     19163.0        Paulo Dybala - 3   \n",
      "\n",
      "          Goalkeeper  Notes  \n",
      "0       Manuel Neuer    NaN  \n",
      "1      Remko Pasveer    NaN  \n",
      "2            Alisson    NaN  \n",
      "3   Thibaut Courtois    NaN  \n",
      "4  Wojciech Szczęsny    NaN  \n",
      "the dimension of the dataset are (33, 19)\n"
     ]
    }
   ],
   "source": [
    "print(df.head(5))\n",
    "print('the dimension of the dataset are {}'.format(df.shape))"
   ]
  },
  {
   "cell_type": "code",
   "execution_count": 5,
   "id": "4c4f4560",
   "metadata": {},
   "outputs": [
    {
     "name": "stdout",
     "output_type": "stream",
     "text": [
      "<class 'pandas.core.frame.DataFrame'>\n",
      "RangeIndex: 33 entries, 0 to 32\n",
      "Data columns (total 19 columns):\n",
      " #   Column           Non-Null Count  Dtype  \n",
      "---  ------           --------------  -----  \n",
      " 0   Rk               32 non-null     object \n",
      " 1   Squad            32 non-null     object \n",
      " 2   MP               32 non-null     float64\n",
      " 3   W                32 non-null     float64\n",
      " 4   D                32 non-null     float64\n",
      " 5   L                32 non-null     float64\n",
      " 6   GF               32 non-null     float64\n",
      " 7   GA               32 non-null     float64\n",
      " 8   GD               32 non-null     float64\n",
      " 9   Pts              32 non-null     float64\n",
      " 10  xG               32 non-null     float64\n",
      " 11  xGA              32 non-null     float64\n",
      " 12  xGD              32 non-null     float64\n",
      " 13  xGD/90           32 non-null     float64\n",
      " 14  Last 5           32 non-null     object \n",
      " 15  Attendance       32 non-null     float64\n",
      " 16  Top Team Scorer  32 non-null     object \n",
      " 17  Goalkeeper       32 non-null     object \n",
      " 18  Notes            0 non-null      float64\n",
      "dtypes: float64(14), object(5)\n",
      "memory usage: 5.0+ KB\n"
     ]
    }
   ],
   "source": [
    "df.info()"
   ]
  },
  {
   "cell_type": "code",
   "execution_count": 6,
   "id": "50b00835",
   "metadata": {},
   "outputs": [
    {
     "data": {
      "text/html": [
       "<div>\n",
       "<style scoped>\n",
       "    .dataframe tbody tr th:only-of-type {\n",
       "        vertical-align: middle;\n",
       "    }\n",
       "\n",
       "    .dataframe tbody tr th {\n",
       "        vertical-align: top;\n",
       "    }\n",
       "\n",
       "    .dataframe thead th {\n",
       "        text-align: right;\n",
       "    }\n",
       "</style>\n",
       "<table border=\"1\" class=\"dataframe\">\n",
       "  <thead>\n",
       "    <tr style=\"text-align: right;\">\n",
       "      <th></th>\n",
       "      <th>MP</th>\n",
       "      <th>W</th>\n",
       "      <th>D</th>\n",
       "      <th>L</th>\n",
       "      <th>GF</th>\n",
       "      <th>GA</th>\n",
       "      <th>GD</th>\n",
       "      <th>Pts</th>\n",
       "      <th>xG</th>\n",
       "      <th>xGA</th>\n",
       "      <th>xGD</th>\n",
       "      <th>xGD/90</th>\n",
       "      <th>Attendance</th>\n",
       "      <th>Notes</th>\n",
       "    </tr>\n",
       "  </thead>\n",
       "  <tbody>\n",
       "    <tr>\n",
       "      <th>count</th>\n",
       "      <td>32.0</td>\n",
       "      <td>32.00000</td>\n",
       "      <td>32.000000</td>\n",
       "      <td>32.000000</td>\n",
       "      <td>32.000000</td>\n",
       "      <td>32.000000</td>\n",
       "      <td>32.000000</td>\n",
       "      <td>32.000000</td>\n",
       "      <td>32.000000</td>\n",
       "      <td>32.000000</td>\n",
       "      <td>32.000000</td>\n",
       "      <td>32.000000</td>\n",
       "      <td>32.00000</td>\n",
       "      <td>0.0</td>\n",
       "    </tr>\n",
       "    <tr>\n",
       "      <th>mean</th>\n",
       "      <td>6.0</td>\n",
       "      <td>2.43750</td>\n",
       "      <td>1.125000</td>\n",
       "      <td>2.437500</td>\n",
       "      <td>9.281250</td>\n",
       "      <td>9.281250</td>\n",
       "      <td>0.000000</td>\n",
       "      <td>8.437500</td>\n",
       "      <td>8.837500</td>\n",
       "      <td>8.837500</td>\n",
       "      <td>-0.006250</td>\n",
       "      <td>0.000625</td>\n",
       "      <td>31099.87500</td>\n",
       "      <td>NaN</td>\n",
       "    </tr>\n",
       "    <tr>\n",
       "      <th>std</th>\n",
       "      <td>0.0</td>\n",
       "      <td>1.79493</td>\n",
       "      <td>0.906962</td>\n",
       "      <td>1.479701</td>\n",
       "      <td>5.490369</td>\n",
       "      <td>4.136653</td>\n",
       "      <td>8.151786</td>\n",
       "      <td>4.924838</td>\n",
       "      <td>3.425215</td>\n",
       "      <td>3.462681</td>\n",
       "      <td>6.185672</td>\n",
       "      <td>1.029287</td>\n",
       "      <td>14580.84057</td>\n",
       "      <td>NaN</td>\n",
       "    </tr>\n",
       "    <tr>\n",
       "      <th>min</th>\n",
       "      <td>6.0</td>\n",
       "      <td>0.00000</td>\n",
       "      <td>0.000000</td>\n",
       "      <td>0.000000</td>\n",
       "      <td>1.000000</td>\n",
       "      <td>3.000000</td>\n",
       "      <td>-16.000000</td>\n",
       "      <td>0.000000</td>\n",
       "      <td>2.000000</td>\n",
       "      <td>3.400000</td>\n",
       "      <td>-12.900000</td>\n",
       "      <td>-2.150000</td>\n",
       "      <td>5689.00000</td>\n",
       "      <td>NaN</td>\n",
       "    </tr>\n",
       "    <tr>\n",
       "      <th>25%</th>\n",
       "      <td>6.0</td>\n",
       "      <td>1.00000</td>\n",
       "      <td>0.000000</td>\n",
       "      <td>1.000000</td>\n",
       "      <td>5.750000</td>\n",
       "      <td>6.000000</td>\n",
       "      <td>-5.000000</td>\n",
       "      <td>5.000000</td>\n",
       "      <td>6.800000</td>\n",
       "      <td>6.100000</td>\n",
       "      <td>-3.825000</td>\n",
       "      <td>-0.640000</td>\n",
       "      <td>20614.25000</td>\n",
       "      <td>NaN</td>\n",
       "    </tr>\n",
       "    <tr>\n",
       "      <th>50%</th>\n",
       "      <td>6.0</td>\n",
       "      <td>2.00000</td>\n",
       "      <td>1.000000</td>\n",
       "      <td>2.500000</td>\n",
       "      <td>8.000000</td>\n",
       "      <td>9.000000</td>\n",
       "      <td>0.000000</td>\n",
       "      <td>7.500000</td>\n",
       "      <td>8.450000</td>\n",
       "      <td>8.500000</td>\n",
       "      <td>-0.350000</td>\n",
       "      <td>-0.055000</td>\n",
       "      <td>30686.00000</td>\n",
       "      <td>NaN</td>\n",
       "    </tr>\n",
       "    <tr>\n",
       "      <th>75%</th>\n",
       "      <td>6.0</td>\n",
       "      <td>3.00000</td>\n",
       "      <td>2.000000</td>\n",
       "      <td>3.000000</td>\n",
       "      <td>13.000000</td>\n",
       "      <td>11.250000</td>\n",
       "      <td>3.250000</td>\n",
       "      <td>11.000000</td>\n",
       "      <td>11.300000</td>\n",
       "      <td>10.400000</td>\n",
       "      <td>3.675000</td>\n",
       "      <td>0.617500</td>\n",
       "      <td>40862.25000</td>\n",
       "      <td>NaN</td>\n",
       "    </tr>\n",
       "    <tr>\n",
       "      <th>max</th>\n",
       "      <td>6.0</td>\n",
       "      <td>6.00000</td>\n",
       "      <td>3.000000</td>\n",
       "      <td>6.000000</td>\n",
       "      <td>22.000000</td>\n",
       "      <td>20.000000</td>\n",
       "      <td>19.000000</td>\n",
       "      <td>18.000000</td>\n",
       "      <td>16.300000</td>\n",
       "      <td>18.300000</td>\n",
       "      <td>10.500000</td>\n",
       "      <td>1.750000</td>\n",
       "      <td>72855.00000</td>\n",
       "      <td>NaN</td>\n",
       "    </tr>\n",
       "  </tbody>\n",
       "</table>\n",
       "</div>"
      ],
      "text/plain": [
       "         MP         W          D          L         GF         GA         GD  \\\n",
       "count  32.0  32.00000  32.000000  32.000000  32.000000  32.000000  32.000000   \n",
       "mean    6.0   2.43750   1.125000   2.437500   9.281250   9.281250   0.000000   \n",
       "std     0.0   1.79493   0.906962   1.479701   5.490369   4.136653   8.151786   \n",
       "min     6.0   0.00000   0.000000   0.000000   1.000000   3.000000 -16.000000   \n",
       "25%     6.0   1.00000   0.000000   1.000000   5.750000   6.000000  -5.000000   \n",
       "50%     6.0   2.00000   1.000000   2.500000   8.000000   9.000000   0.000000   \n",
       "75%     6.0   3.00000   2.000000   3.000000  13.000000  11.250000   3.250000   \n",
       "max     6.0   6.00000   3.000000   6.000000  22.000000  20.000000  19.000000   \n",
       "\n",
       "             Pts         xG        xGA        xGD     xGD/90   Attendance  \\\n",
       "count  32.000000  32.000000  32.000000  32.000000  32.000000     32.00000   \n",
       "mean    8.437500   8.837500   8.837500  -0.006250   0.000625  31099.87500   \n",
       "std     4.924838   3.425215   3.462681   6.185672   1.029287  14580.84057   \n",
       "min     0.000000   2.000000   3.400000 -12.900000  -2.150000   5689.00000   \n",
       "25%     5.000000   6.800000   6.100000  -3.825000  -0.640000  20614.25000   \n",
       "50%     7.500000   8.450000   8.500000  -0.350000  -0.055000  30686.00000   \n",
       "75%    11.000000  11.300000  10.400000   3.675000   0.617500  40862.25000   \n",
       "max    18.000000  16.300000  18.300000  10.500000   1.750000  72855.00000   \n",
       "\n",
       "       Notes  \n",
       "count    0.0  \n",
       "mean     NaN  \n",
       "std      NaN  \n",
       "min      NaN  \n",
       "25%      NaN  \n",
       "50%      NaN  \n",
       "75%      NaN  \n",
       "max      NaN  "
      ]
     },
     "execution_count": 6,
     "metadata": {},
     "output_type": "execute_result"
    }
   ],
   "source": [
    "df.describe()"
   ]
  },
  {
   "cell_type": "code",
   "execution_count": 7,
   "id": "f28fd460",
   "metadata": {},
   "outputs": [
    {
     "data": {
      "image/png": "[encoded data removed]",
      "text/plain": [
       "<Figure size 432x288 with 1 Axes>"
      ]
     },
     "metadata": {
      "needs_background": "light"
     },
     "output_type": "display_data"
    }
   ],
   "source": [
    "sns.heatmap(df.isnull(),cbar=False,cmap=\"Blues\")\n",
    "plt.show()"
   ]
  },
  {
   "cell_type": "markdown",
   "id": "537b1799",
   "metadata": {},
   "source": [
    "#### The data is messed up at some levels. We need to fix it first before getting any further.  The missing \n",
    "#### values are too insignificant to be imputed. We'll just drop them.  "
   ]
  },
  {
   "cell_type": "code",
   "execution_count": 8,
   "id": "8cad04cb",
   "metadata": {},
   "outputs": [
    {
     "name": "stdout",
     "output_type": "stream",
     "text": [
      "    Rk              Squad   MP    W    D    L    GF   GA    GD   Pts    xG  \\\n",
      "0  R16  de  Bayern Munich  6.0  6.0  0.0  0.0  22.0  3.0  19.0  18.0  13.9   \n",
      "1  R16           nl  Ajax  6.0  6.0  0.0  0.0  20.0  5.0  15.0  18.0  16.3   \n",
      "2  R16     eng  Liverpool  6.0  6.0  0.0  0.0  17.0  6.0  11.0  18.0  11.6   \n",
      "3  R16    es  Real Madrid  6.0  5.0  0.0  1.0  14.0  3.0  11.0  15.0  11.7   \n",
      "4  R16       it  Juventus  6.0  5.0  0.0  1.0  10.0  6.0   4.0  15.0  10.9   \n",
      "\n",
      "   xGA   xGD  xGD/90     Last 5  Attendance         Top Team Scorer  \\\n",
      "0  3.4  10.5    1.75  W W W W W     25000.0  Robert Lewandowski - 9   \n",
      "1  6.4   9.9    1.65  W W W W L     35552.0   Sébastien Haller - 10   \n",
      "2  5.8   5.8    0.97  W W W W W     51667.0       Mohamed Salah - 7   \n",
      "3  5.9   5.9    0.98  W W W W W     35838.0       Karim Benzema - 5   \n",
      "4  6.1   4.8    0.79  W W W D W     19163.0        Paulo Dybala - 3   \n",
      "\n",
      "          Goalkeeper  \n",
      "0       Manuel Neuer  \n",
      "1      Remko Pasveer  \n",
      "2            Alisson  \n",
      "3   Thibaut Courtois  \n",
      "4  Wojciech Szczęsny  \n"
     ]
    }
   ],
   "source": [
    "df.dropna(axis=1, how='all',inplace=True)\n",
    "df.dropna(axis=0, how='all',inplace=True)\n",
    "print(df.head(5))"
   ]
  },
  {
   "cell_type": "code",
   "execution_count": 9,
   "id": "86e6dd6b",
   "metadata": {},
   "outputs": [
    {
     "data": {
      "image/png": "[encoded data removed]",
      "text/plain": [
       "<Figure size 432x288 with 1 Axes>"
      ]
     },
     "metadata": {
      "needs_background": "light"
     },
     "output_type": "display_data"
    }
   ],
   "source": [
    "sns.heatmap(df.isnull(),cbar=False,cmap=\"Blues\")\n",
    "plt.show()"
   ]
  },
  {
   "cell_type": "markdown",
   "id": "d26dfd4a",
   "metadata": {},
   "source": [
    "#### we have succesfully deleted all the missing values "
   ]
  },
  {
   "cell_type": "code",
   "execution_count": 10,
   "id": "15ee6796",
   "metadata": {},
   "outputs": [
    {
     "name": "stdout",
     "output_type": "stream",
     "text": [
      "    Rk   MP    W    D    L    GF   GA    GD   Pts    xG  xGA   xGD  xGD/90  \\\n",
      "0  R16  6.0  6.0  0.0  0.0  22.0  3.0  19.0  18.0  13.9  3.4  10.5    1.75   \n",
      "1  R16  6.0  6.0  0.0  0.0  20.0  5.0  15.0  18.0  16.3  6.4   9.9    1.65   \n",
      "2  R16  6.0  6.0  0.0  0.0  17.0  6.0  11.0  18.0  11.6  5.8   5.8    0.97   \n",
      "3  R16  6.0  5.0  0.0  1.0  14.0  3.0  11.0  15.0  11.7  5.9   5.9    0.98   \n",
      "4  R16  6.0  5.0  0.0  1.0  10.0  6.0   4.0  15.0  10.9  6.1   4.8    0.79   \n",
      "\n",
      "      Last 5  Attendance         Goalkeeper           Top Scorer Goals  \\\n",
      "0  W W W W W     25000.0       Manuel Neuer  Robert Lewandowski      9   \n",
      "1  W W W W L     35552.0      Remko Pasveer    Sébastien Haller     10   \n",
      "2  W W W W W     51667.0            Alisson       Mohamed Salah      7   \n",
      "3  W W W W W     35838.0   Thibaut Courtois       Karim Benzema      5   \n",
      "4  W W W D W     19163.0  Wojciech Szczęsny        Paulo Dybala      3   \n",
      "\n",
      "  Country           Team  \n",
      "0      de  Bayern Munich  \n",
      "1      nl           Ajax  \n",
      "2     eng      Liverpool  \n",
      "3      es    Real Madrid  \n",
      "4      it       Juventus  \n"
     ]
    }
   ],
   "source": [
    "# split column into multiple columns by delimiter \n",
    "df[['Top Scorer','Goals']]=df['Top Team Scorer'].str.split('-', expand=True)\n",
    "df[['Country','Team']]=df['Squad'].str.split('  ', expand=True)\n",
    "df.drop(['Top Team Scorer'],axis=1,inplace=True)\n",
    "df.drop(['Squad'],axis=1,inplace=True)\n",
    "print(df.head(5))"
   ]
  },
  {
   "cell_type": "markdown",
   "id": "88425def",
   "metadata": {},
   "source": [
    "####   We have successfully cleaned the dataset "
   ]
  },
  {
   "cell_type": "code",
   "execution_count": 11,
   "id": "07c1615a",
   "metadata": {},
   "outputs": [
    {
     "name": "stdout",
     "output_type": "stream",
     "text": [
      "<class 'pandas.core.frame.DataFrame'>\n",
      "Int64Index: 32 entries, 0 to 32\n",
      "Data columns (total 20 columns):\n",
      " #   Column      Non-Null Count  Dtype  \n",
      "---  ------      --------------  -----  \n",
      " 0   Rk          32 non-null     object \n",
      " 1   MP          32 non-null     float64\n",
      " 2   W           32 non-null     float64\n",
      " 3   D           32 non-null     float64\n",
      " 4   L           32 non-null     float64\n",
      " 5   GF          32 non-null     float64\n",
      " 6   GA          32 non-null     float64\n",
      " 7   GD          32 non-null     float64\n",
      " 8   Pts         32 non-null     float64\n",
      " 9   xG          32 non-null     float64\n",
      " 10  xGA         32 non-null     float64\n",
      " 11  xGD         32 non-null     float64\n",
      " 12  xGD/90      32 non-null     float64\n",
      " 13  Last 5      32 non-null     object \n",
      " 14  Attendance  32 non-null     float64\n",
      " 15  Goalkeeper  32 non-null     object \n",
      " 16  Top Scorer  32 non-null     object \n",
      " 17  Goals       32 non-null     object \n",
      " 18  Country     32 non-null     object \n",
      " 19  Team        32 non-null     object \n",
      "dtypes: float64(13), object(7)\n",
      "memory usage: 5.2+ KB\n"
     ]
    }
   ],
   "source": [
    "df.info()"
   ]
  },
  {
   "cell_type": "markdown",
   "id": "140dcc7e",
   "metadata": {},
   "source": [
    "##### The column goals is not a numeric datatype as it seems"
   ]
  },
  {
   "cell_type": "code",
   "execution_count": 12,
   "id": "57c0e96f",
   "metadata": {},
   "outputs": [
    {
     "name": "stdout",
     "output_type": "stream",
     "text": [
      "<class 'pandas.core.frame.DataFrame'>\n",
      "Int64Index: 32 entries, 0 to 32\n",
      "Data columns (total 20 columns):\n",
      " #   Column      Non-Null Count  Dtype  \n",
      "---  ------      --------------  -----  \n",
      " 0   Rk          32 non-null     object \n",
      " 1   MP          32 non-null     float64\n",
      " 2   W           32 non-null     float64\n",
      " 3   D           32 non-null     float64\n",
      " 4   L           32 non-null     float64\n",
      " 5   GF          32 non-null     float64\n",
      " 6   GA          32 non-null     float64\n",
      " 7   GD          32 non-null     float64\n",
      " 8   Pts         32 non-null     float64\n",
      " 9   xG          32 non-null     float64\n",
      " 10  xGA         32 non-null     float64\n",
      " 11  xGD         32 non-null     float64\n",
      " 12  xGD/90      32 non-null     float64\n",
      " 13  Last 5      32 non-null     object \n",
      " 14  Attendance  32 non-null     float64\n",
      " 15  Goalkeeper  32 non-null     object \n",
      " 16  Top Scorer  32 non-null     object \n",
      " 17  Goals       32 non-null     float64\n",
      " 18  Country     32 non-null     object \n",
      " 19  Team        32 non-null     object \n",
      "dtypes: float64(14), object(6)\n",
      "memory usage: 5.2+ KB\n"
     ]
    }
   ],
   "source": [
    "convert_dict={'Goals':float}\n",
    "df=df.astype(convert_dict)\n",
    "df.info()"
   ]
  },
  {
   "cell_type": "markdown",
   "id": "88adc5a7",
   "metadata": {},
   "source": [
    "##### now it is "
   ]
  },
  {
   "cell_type": "code",
   "execution_count": 13,
   "id": "f3d1cf55",
   "metadata": {},
   "outputs": [
    {
     "data": {
      "text/plain": [
       "Index(['Rk', 'MP', 'W', 'D', 'L', 'GF', 'GA', 'GD', 'Pts', 'xG', 'xGA', 'xGD',\n",
       "       'xGD/90', 'Last 5', 'Attendance', 'Goalkeeper', 'Top Scorer', 'Goals',\n",
       "       'Country', 'Team'],\n",
       "      dtype='object')"
      ]
     },
     "execution_count": 13,
     "metadata": {},
     "output_type": "execute_result"
    }
   ],
   "source": [
    "df.columns"
   ]
  },
  {
   "cell_type": "markdown",
   "id": "deeaa92f",
   "metadata": {},
   "source": [
    "### Data Viz\n",
    "#### time to explore the data for better understanding"
   ]
  },
  {
   "cell_type": "code",
   "execution_count": 55,
   "id": "cfe86374",
   "metadata": {},
   "outputs": [
    {
     "data": {
      "image/png": "[encoded data removed]",
      "text/plain": [
       "<Figure size 432x288 with 1 Axes>"
      ]
     },
     "metadata": {
      "needs_background": "light"
     },
     "output_type": "display_data"
    }
   ],
   "source": [
    "sns.countplot(x='Country',data=df)\n",
    "plt.show()"
   ]
  },
  {
   "cell_type": "markdown",
   "id": "5489cb54",
   "metadata": {},
   "source": [
    "###### Spain has most teams in the competition among top 5 leagues"
   ]
  },
  {
   "cell_type": "code",
   "execution_count": 56,
   "id": "51214eb6",
   "metadata": {},
   "outputs": [
    {
     "data": {
      "image/png": "[encoded data removed]",
      "text/plain": [
       "<Figure size 432x288 with 1 Axes>"
      ]
     },
     "metadata": {
      "needs_background": "light"
     },
     "output_type": "display_data"
    }
   ],
   "source": [
    "sns.countplot(x='GF',data=df)\n",
    "plt.show()"
   ]
  },
  {
   "cell_type": "markdown",
   "id": "1f9e69ce",
   "metadata": {},
   "source": [
    "#### most teams scored around 7 goals and conceeded around 9-11 goals"
   ]
  },
  {
   "cell_type": "code",
   "execution_count": 57,
   "id": "6da50926",
   "metadata": {},
   "outputs": [
    {
     "data": {
      "image/png": "[encoded data removed]",
      "text/plain": [
       "<Figure size 432x288 with 1 Axes>"
      ]
     },
     "metadata": {
      "needs_background": "light"
     },
     "output_type": "display_data"
    }
   ],
   "source": [
    "sns.countplot(x='GA',data=df)\n",
    "plt.show()"
   ]
  },
  {
   "cell_type": "code",
   "execution_count": 58,
   "id": "7602564e",
   "metadata": {},
   "outputs": [
    {
     "data": {
      "image/png": "[encoded data removed]",
      "text/plain": [
       "<Figure size 432x288 with 2 Axes>"
      ]
     },
     "metadata": {
      "needs_background": "light"
     },
     "output_type": "display_data"
    }
   ],
   "source": [
    "plt.subplot(1,2,1)\n",
    "plt.hist(x='xG',data=df)\n",
    "plt.title('xG dist')\n",
    "\n",
    "plt.subplot(1,2,2)\n",
    "plt.hist(x='xGA',data=df)\n",
    "plt.title('xGA dist')\n",
    "\n",
    "plt.show()"
   ]
  },
  {
   "cell_type": "code",
   "execution_count": 23,
   "id": "841f5d3f",
   "metadata": {},
   "outputs": [
    {
     "data": {
      "image/png": "[encoded data removed]",
      "text/plain": [
       "<Figure size 432x432 with 3 Axes>"
      ]
     },
     "metadata": {
      "needs_background": "light"
     },
     "output_type": "display_data"
    }
   ],
   "source": [
    "sns.jointplot(x='xG',y='GF',kind='reg',data=df)\n",
    "plt.show()"
   ]
  },
  {
   "cell_type": "code",
   "execution_count": 24,
   "id": "df30aea3",
   "metadata": {},
   "outputs": [
    {
     "data": {
      "image/png": "[encoded data removed]",
      "text/plain": [
       "<Figure size 432x432 with 3 Axes>"
      ]
     },
     "metadata": {
      "needs_background": "light"
     },
     "output_type": "display_data"
    }
   ],
   "source": [
    "sns.jointplot(x='xGA',y='GA',kind='reg',data=df)\n",
    "plt.show()"
   ]
  },
  {
   "cell_type": "markdown",
   "id": "40a45c0f",
   "metadata": {},
   "source": [
    "#### the linear relationship between xG, GF(=goals for) & xGA, GA(=goals against) is no surprise"
   ]
  },
  {
   "cell_type": "code",
   "execution_count": 27,
   "id": "6266fd08",
   "metadata": {},
   "outputs": [
    {
     "data": {
      "image/png": "[encoded data removed]",
      "text/plain": [
       "<Figure size 432x288 with 2 Axes>"
      ]
     },
     "metadata": {
      "needs_background": "light"
     },
     "output_type": "display_data"
    }
   ],
   "source": [
    "sns.heatmap(df[['GF', 'GA', 'GD', 'Pts', 'xG', 'xGA', 'xGD','xGD/90']].corr(),annot=True)\n",
    "plt.show()"
   ]
  },
  {
   "cell_type": "markdown",
   "id": "34cf0e51",
   "metadata": {},
   "source": [
    "#### we intend to understand underlying relationships between points scored  and different statistical metrics such as xG, xA and so on"
   ]
  },
  {
   "cell_type": "markdown",
   "id": "ffcfa043",
   "metadata": {},
   "source": [
    "#### To avoid multi-colinearity we'll drop control variables having higher correlation coefficient among them from the dataset for the model  "
   ]
  },
  {
   "cell_type": "code",
   "execution_count": 25,
   "id": "bff478c6",
   "metadata": {},
   "outputs": [
    {
     "data": {
      "image/png": "[encoded data removed]",
      "text/plain": [
       "<Figure size 432x432 with 3 Axes>"
      ]
     },
     "metadata": {
      "needs_background": "light"
     },
     "output_type": "display_data"
    }
   ],
   "source": [
    "sns.jointplot(x='xG',y='Pts',kind='reg',data=df)\n",
    "plt.show()"
   ]
  },
  {
   "cell_type": "markdown",
   "id": "99d2da2e",
   "metadata": {},
   "source": [
    "#### It is to be noted that's the points scored has linear relationship with xG "
   ]
  },
  {
   "cell_type": "markdown",
   "id": "4e98956a",
   "metadata": {},
   "source": [
    "## Training the model"
   ]
  },
  {
   "cell_type": "code",
   "execution_count": 15,
   "id": "a7668613",
   "metadata": {},
   "outputs": [],
   "source": [
    "from sklearn.model_selection import train_test_split"
   ]
  },
  {
   "cell_type": "code",
   "execution_count": 16,
   "id": "f2667312",
   "metadata": {},
   "outputs": [
    {
     "name": "stdout",
     "output_type": "stream",
     "text": [
      "training & testing data created.\n"
     ]
    }
   ],
   "source": [
    "train, test = train_test_split(df, test_size=0.3)\n",
    "print('training & testing data created.')"
   ]
  },
  {
   "cell_type": "code",
   "execution_count": 17,
   "id": "5ef73cf8",
   "metadata": {},
   "outputs": [
    {
     "name": "stdout",
     "output_type": "stream",
     "text": [
      "Index(['Rk', 'MP', 'W', 'D', 'L', 'GF', 'GA', 'GD', 'Pts', 'xG', 'xGA', 'xGD',\n",
      "       'xGD/90', 'Last 5', 'Attendance', 'Goalkeeper', 'Top Scorer', 'Goals',\n",
      "       'Country', 'Team'],\n",
      "      dtype='object')\n",
      "\n",
      "\n",
      "Index(['Rk', 'MP', 'W', 'D', 'L', 'GF', 'GA', 'GD', 'Pts', 'xG', 'xGA', 'xGD',\n",
      "       'xGD/90', 'Last 5', 'Attendance', 'Goalkeeper', 'Top Scorer', 'Goals',\n",
      "       'Country', 'Team'],\n",
      "      dtype='object')\n"
     ]
    }
   ],
   "source": [
    "print(train.columns)\n",
    "print('\\n')\n",
    "print(test.columns)"
   ]
  },
  {
   "cell_type": "code",
   "execution_count": 18,
   "id": "aeae58d7",
   "metadata": {},
   "outputs": [],
   "source": [
    "X_train=train['xG']\n",
    "y_train=train['Pts']\n",
    "\n",
    "X_test=test['xG']\n",
    "y_test=test['Pts']"
   ]
  },
  {
   "cell_type": "code",
   "execution_count": 19,
   "id": "e7f8930f",
   "metadata": {},
   "outputs": [],
   "source": [
    "X_train = X_train.values.reshape(-1, 1)\n",
    "y_train = y_train.values.reshape(-1, 1)\n",
    "\n",
    "X_test = X_test.values.reshape(-1, 1)\n",
    "y_test = y_test.values.reshape(-1, 1)"
   ]
  },
  {
   "cell_type": "code",
   "execution_count": 20,
   "id": "58fe10f9",
   "metadata": {},
   "outputs": [],
   "source": [
    "from sklearn.linear_model import LinearRegression"
   ]
  },
  {
   "cell_type": "code",
   "execution_count": 21,
   "id": "a0d774c2",
   "metadata": {},
   "outputs": [],
   "source": [
    "lm=LinearRegression()"
   ]
  },
  {
   "cell_type": "code",
   "execution_count": 22,
   "id": "09746980",
   "metadata": {},
   "outputs": [
    {
     "name": "stdout",
     "output_type": "stream",
     "text": [
      "training complete!\n"
     ]
    }
   ],
   "source": [
    "lm.fit(X_train,y_train)\n",
    "print('training complete!')"
   ]
  },
  {
   "cell_type": "markdown",
   "id": "adaee745",
   "metadata": {},
   "source": [
    "## Model Evaluation\n",
    "\n",
    "Let's evaluate the model by checking out it's coefficients and how we can interpret them."
   ]
  },
  {
   "cell_type": "code",
   "execution_count": 23,
   "id": "2fce63a1",
   "metadata": {},
   "outputs": [
    {
     "name": "stdout",
     "output_type": "stream",
     "text": [
      "[-2.69564559]\n"
     ]
    }
   ],
   "source": [
    "# print the intercept\n",
    "print(lm.intercept_)"
   ]
  },
  {
   "cell_type": "code",
   "execution_count": 24,
   "id": "3c71e9e9",
   "metadata": {},
   "outputs": [
    {
     "name": "stdout",
     "output_type": "stream",
     "text": [
      "[[1.27707372]]\n"
     ]
    }
   ],
   "source": [
    "# print the co-efficients\n",
    "print(lm.coef_)"
   ]
  },
  {
   "cell_type": "markdown",
   "id": "9c7379ea",
   "metadata": {},
   "source": [
    "#### holding all other featuers fixed, a single unit increase in xG wil result in 1.2 units increase of points. In mathematical terms, points scored =  1.28*xG - 2.69 "
   ]
  },
  {
   "cell_type": "code",
   "execution_count": 45,
   "id": "7fd1e5f7",
   "metadata": {},
   "outputs": [
    {
     "name": "stdout",
     "output_type": "stream",
     "text": [
      "   y_test  predctions\n",
      "0       6    8.542603\n",
      "1       5    6.499285\n",
      "2      10   13.140069\n",
      "3       7    2.157235\n",
      "4       5    8.287188\n",
      "5      18   18.120656\n",
      "6      15   12.246117\n",
      "7       1   -0.141498\n",
      "8       9   10.969043\n",
      "9       9   10.075092\n"
     ]
    }
   ],
   "source": [
    "predictions = lm.predict(X_test)\n",
    "data={'y_test':[6,5,10,7,5,18,15,1,9,9],\n",
    "     'predctions':[8.54260316,6.49928521,13.14006856,2.15723456,8.28718842,18.12065607,12.24611695,-0.14149814,10.96904323,10.07509163]}\n",
    "df_pred=pd.DataFrame(data)\n",
    "print(df_pred)"
   ]
  },
  {
   "cell_type": "code",
   "execution_count": 46,
   "id": "a84c8a18",
   "metadata": {},
   "outputs": [
    {
     "data": {
      "image/png": "[encoded data removed]",
      "text/plain": [
       "<Figure size 432x288 with 1 Axes>"
      ]
     },
     "metadata": {
      "needs_background": "light"
     },
     "output_type": "display_data"
    }
   ],
   "source": [
    "df_pred.plot(kind='line')\n",
    "plt.show()"
   ]
  },
  {
   "cell_type": "code",
   "execution_count": 32,
   "id": "1ab7bbe8",
   "metadata": {},
   "outputs": [],
   "source": [
    "from sklearn import metrics"
   ]
  },
  {
   "cell_type": "code",
   "execution_count": 35,
   "id": "5f56daa2",
   "metadata": {},
   "outputs": [
    {
     "name": "stdout",
     "output_type": "stream",
     "text": [
      "MAE: 2.237208291152166\n",
      "MSE: 6.676510336094955\n",
      "RMSE: 2.5838944127218038\n",
      "R2_Score= 0.7026053302407592\n"
     ]
    }
   ],
   "source": [
    "print('MAE:', metrics.mean_absolute_error(y_test, predictions))\n",
    "print('MSE:', metrics.mean_squared_error(y_test, predictions))\n",
    "print('RMSE:', np.sqrt(metrics.mean_squared_error(y_test, predictions)))\n",
    "print(f\"R2_Score= {metrics.r2_score(y_test,predictions)}\")"
   ]
  },
  {
   "cell_type": "markdown",
   "id": "38aeab74",
   "metadata": {},
   "source": [
    "#### The small value of Mean Absolute Error states that the chances of wrong prediction is very less. As well as the large value of R2 score(r_square) tells that our prediction is very precise."
   ]
  },
  {
   "cell_type": "markdown",
   "id": "11b0a145",
   "metadata": {},
   "source": [
    "## Thank You!"
   ]
  }
 ],
 "metadata": {
  "kernelspec": {
   "display_name": "Python 3 (ipykernel)",
   "language": "python",
   "name": "python3"
  },
  "language_info": {
   "codemirror_mode": {
    "name": "ipython",
    "version": 3
   },
   "file_extension": ".py",
   "mimetype": "text/x-python",
   "name": "python",
   "nbconvert_exporter": "python",
   "pygments_lexer": "ipython3",
   "version": "3.10.1"
  }
 },
 "nbformat": 4,
 "nbformat_minor": 5
}
