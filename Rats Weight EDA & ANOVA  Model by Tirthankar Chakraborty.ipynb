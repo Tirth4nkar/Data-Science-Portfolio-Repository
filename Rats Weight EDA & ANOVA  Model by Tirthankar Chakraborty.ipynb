{
 "cells": [
  {
   "cell_type": "code",
   "execution_count": 1,
   "id": "purple-vietnamese",
   "metadata": {},
   "outputs": [
    {
     "name": "stdout",
     "output_type": "stream",
     "text": [
      "[1] \"datasets imported!\"\n"
     ]
    }
   ],
   "source": [
    "setwd(\"C:/Users/Tirthankar/Documents/Spreadsheets\")\n",
    "data<-read.csv(\"repeated_rats.csv\")\n",
    "data.modified<-read.csv(\"repeated_rats_modified.csv\")\n",
    "print(\"datasets imported!\")"
   ]
  },
  {
   "cell_type": "code",
   "execution_count": 3,
   "id": "martial-scope",
   "metadata": {},
   "outputs": [
    {
     "name": "stdout",
     "output_type": "stream",
     "text": [
      "[1] \"library imported!\"\n"
     ]
    }
   ],
   "source": [
    "options(warn=-1)\n",
    "library(dplyr)\n",
    "print(\"library imported!\")"
   ]
  },
  {
   "cell_type": "code",
   "execution_count": 4,
   "id": "atomic-championship",
   "metadata": {},
   "outputs": [
    {
     "data": {
      "text/html": [
       "<ol class=list-inline>\n",
       "\t<li>30</li>\n",
       "\t<li>6</li>\n",
       "</ol>\n"
      ],
      "text/latex": [
       "\\begin{enumerate*}\n",
       "\\item 30\n",
       "\\item 6\n",
       "\\end{enumerate*}\n"
      ],
      "text/markdown": [
       "1. 30\n",
       "2. 6\n",
       "\n",
       "\n"
      ],
      "text/plain": [
       "[1] 30  6"
      ]
     },
     "metadata": {},
     "output_type": "display_data"
    },
    {
     "data": {
      "text/html": [
       "<ol class=list-inline>\n",
       "\t<li>150</li>\n",
       "\t<li>2</li>\n",
       "</ol>\n"
      ],
      "text/latex": [
       "\\begin{enumerate*}\n",
       "\\item 150\n",
       "\\item 2\n",
       "\\end{enumerate*}\n"
      ],
      "text/markdown": [
       "1. 150\n",
       "2. 2\n",
       "\n",
       "\n"
      ],
      "text/plain": [
       "[1] 150   2"
      ]
     },
     "metadata": {},
     "output_type": "display_data"
    }
   ],
   "source": [
    "dim(data)\n",
    "dim(data.modified)"
   ]
  },
  {
   "cell_type": "code",
   "execution_count": 5,
   "id": "lucky-machinery",
   "metadata": {},
   "outputs": [
    {
     "data": {
      "text/html": [
       "<table>\n",
       "<thead><tr><th scope=col>Rats</th><th scope=col>Treatment1</th><th scope=col>Treatment2</th><th scope=col>Treatment3</th><th scope=col>Treatment4</th><th scope=col>Treatment5</th></tr></thead>\n",
       "<tbody>\n",
       "\t<tr><td>1  </td><td>151</td><td>199</td><td>246</td><td>283</td><td>320</td></tr>\n",
       "\t<tr><td>2  </td><td>145</td><td>199</td><td>249</td><td>293</td><td>354</td></tr>\n",
       "\t<tr><td>3  </td><td>147</td><td>214</td><td>263</td><td>312</td><td>328</td></tr>\n",
       "\t<tr><td>4  </td><td>155</td><td>200</td><td>237</td><td>272</td><td>297</td></tr>\n",
       "\t<tr><td>5  </td><td>135</td><td>188</td><td>230</td><td>280</td><td>323</td></tr>\n",
       "\t<tr><td>6  </td><td>159</td><td>210</td><td>252</td><td>298</td><td>331</td></tr>\n",
       "</tbody>\n",
       "</table>\n"
      ],
      "text/latex": [
       "\\begin{tabular}{r|llllll}\n",
       " Rats & Treatment1 & Treatment2 & Treatment3 & Treatment4 & Treatment5\\\\\n",
       "\\hline\n",
       "\t 1   & 151 & 199 & 246 & 283 & 320\\\\\n",
       "\t 2   & 145 & 199 & 249 & 293 & 354\\\\\n",
       "\t 3   & 147 & 214 & 263 & 312 & 328\\\\\n",
       "\t 4   & 155 & 200 & 237 & 272 & 297\\\\\n",
       "\t 5   & 135 & 188 & 230 & 280 & 323\\\\\n",
       "\t 6   & 159 & 210 & 252 & 298 & 331\\\\\n",
       "\\end{tabular}\n"
      ],
      "text/markdown": [
       "\n",
       "| Rats | Treatment1 | Treatment2 | Treatment3 | Treatment4 | Treatment5 |\n",
       "|---|---|---|---|---|---|\n",
       "| 1   | 151 | 199 | 246 | 283 | 320 |\n",
       "| 2   | 145 | 199 | 249 | 293 | 354 |\n",
       "| 3   | 147 | 214 | 263 | 312 | 328 |\n",
       "| 4   | 155 | 200 | 237 | 272 | 297 |\n",
       "| 5   | 135 | 188 | 230 | 280 | 323 |\n",
       "| 6   | 159 | 210 | 252 | 298 | 331 |\n",
       "\n"
      ],
      "text/plain": [
       "  Rats Treatment1 Treatment2 Treatment3 Treatment4 Treatment5\n",
       "1 1    151        199        246        283        320       \n",
       "2 2    145        199        249        293        354       \n",
       "3 3    147        214        263        312        328       \n",
       "4 4    155        200        237        272        297       \n",
       "5 5    135        188        230        280        323       \n",
       "6 6    159        210        252        298        331       "
      ]
     },
     "metadata": {},
     "output_type": "display_data"
    }
   ],
   "source": [
    "head(data)"
   ]
  },
  {
   "cell_type": "code",
   "execution_count": 6,
   "id": "cardiac-italy",
   "metadata": {},
   "outputs": [
    {
     "data": {
      "text/html": [
       "<table>\n",
       "<thead><tr><th scope=col>Treatments</th><th scope=col>weights</th></tr></thead>\n",
       "<tbody>\n",
       "\t<tr><td>Treatment1</td><td>151       </td></tr>\n",
       "\t<tr><td>Treatment1</td><td>145       </td></tr>\n",
       "\t<tr><td>Treatment1</td><td>147       </td></tr>\n",
       "\t<tr><td>Treatment1</td><td>155       </td></tr>\n",
       "\t<tr><td>Treatment1</td><td>135       </td></tr>\n",
       "\t<tr><td>Treatment1</td><td>159       </td></tr>\n",
       "</tbody>\n",
       "</table>\n"
      ],
      "text/latex": [
       "\\begin{tabular}{r|ll}\n",
       " Treatments & weights\\\\\n",
       "\\hline\n",
       "\t Treatment1 & 151       \\\\\n",
       "\t Treatment1 & 145       \\\\\n",
       "\t Treatment1 & 147       \\\\\n",
       "\t Treatment1 & 155       \\\\\n",
       "\t Treatment1 & 135       \\\\\n",
       "\t Treatment1 & 159       \\\\\n",
       "\\end{tabular}\n"
      ],
      "text/markdown": [
       "\n",
       "| Treatments | weights |\n",
       "|---|---|\n",
       "| Treatment1 | 151        |\n",
       "| Treatment1 | 145        |\n",
       "| Treatment1 | 147        |\n",
       "| Treatment1 | 155        |\n",
       "| Treatment1 | 135        |\n",
       "| Treatment1 | 159        |\n",
       "\n"
      ],
      "text/plain": [
       "  Treatments weights\n",
       "1 Treatment1 151    \n",
       "2 Treatment1 145    \n",
       "3 Treatment1 147    \n",
       "4 Treatment1 155    \n",
       "5 Treatment1 135    \n",
       "6 Treatment1 159    "
      ]
     },
     "metadata": {},
     "output_type": "display_data"
    }
   ],
   "source": [
    "head(data.modified)"
   ]
  },
  {
   "cell_type": "code",
   "execution_count": 7,
   "id": "italic-confidentiality",
   "metadata": {},
   "outputs": [
    {
     "data": {
      "text/html": [
       "0"
      ],
      "text/latex": [
       "0"
      ],
      "text/markdown": [
       "0"
      ],
      "text/plain": [
       "[1] 0"
      ]
     },
     "metadata": {},
     "output_type": "display_data"
    },
    {
     "data": {
      "text/html": [
       "0"
      ],
      "text/latex": [
       "0"
      ],
      "text/markdown": [
       "0"
      ],
      "text/plain": [
       "[1] 0"
      ]
     },
     "metadata": {},
     "output_type": "display_data"
    }
   ],
   "source": [
    "sum(is.na(data))\n",
    "sum(is.na(data.modified))"
   ]
  },
  {
   "cell_type": "markdown",
   "id": "widespread-julian",
   "metadata": {},
   "source": [
    "as we can see, there are no missing values in our datasets"
   ]
  },
  {
   "cell_type": "code",
   "execution_count": 8,
   "id": "large-chance",
   "metadata": {},
   "outputs": [
    {
     "data": {
      "text/plain": [
       "      Rats      Treatment1      Treatment2      Treatment3      Treatment4   \n",
       " 1      : 1   Min.   :132.0   Min.   :180.0   Min.   :219.0   Min.   :258.0  \n",
       " 2      : 1   1st Qu.:143.5   1st Qu.:190.2   1st Qu.:234.8   1st Qu.:280.0  \n",
       " 3      : 1   Median :154.0   Median :202.0   Median :246.0   Median :286.0  \n",
       " 4      : 1   Mean   :152.2   Mean   :201.8   Mean   :245.0   Mean   :289.2  \n",
       " 5      : 1   3rd Qu.:159.0   3rd Qu.:209.5   3rd Qu.:252.8   3rd Qu.:297.8  \n",
       " 6      : 1   Max.   :177.0   Max.   :236.0   Max.   :285.0   Max.   :340.0  \n",
       " (Other):24                                                                  \n",
       "   Treatment5   \n",
       " Min.   :291.0  \n",
       " 1st Qu.:314.5  \n",
       " Median :323.5  \n",
       " Mean   :324.8  \n",
       " 3rd Qu.:333.8  \n",
       " Max.   :376.0  \n",
       "                "
      ]
     },
     "metadata": {},
     "output_type": "display_data"
    }
   ],
   "source": [
    "data$Rats=factor(data$Rats)     #since Rats are catagorical data\n",
    "summary(data)"
   ]
  },
  {
   "cell_type": "code",
   "execution_count": 9,
   "id": "utility-parameter",
   "metadata": {},
   "outputs": [
    {
     "data": {
      "text/html": [
       "<ol class=list-inline>\n",
       "\t<li>'1'</li>\n",
       "\t<li>'2'</li>\n",
       "\t<li>'3'</li>\n",
       "\t<li>'4'</li>\n",
       "\t<li>'5'</li>\n",
       "\t<li>'6'</li>\n",
       "\t<li>'7'</li>\n",
       "\t<li>'8'</li>\n",
       "\t<li>'9'</li>\n",
       "\t<li>'10'</li>\n",
       "\t<li>'11'</li>\n",
       "\t<li>'12'</li>\n",
       "\t<li>'13'</li>\n",
       "\t<li>'14'</li>\n",
       "\t<li>'15'</li>\n",
       "\t<li>'16'</li>\n",
       "\t<li>'17'</li>\n",
       "\t<li>'18'</li>\n",
       "\t<li>'19'</li>\n",
       "\t<li>'20'</li>\n",
       "\t<li>'21'</li>\n",
       "\t<li>'22'</li>\n",
       "\t<li>'23'</li>\n",
       "\t<li>'24'</li>\n",
       "\t<li>'25'</li>\n",
       "\t<li>'26'</li>\n",
       "\t<li>'27'</li>\n",
       "\t<li>'28'</li>\n",
       "\t<li>'29'</li>\n",
       "\t<li>'30'</li>\n",
       "</ol>\n"
      ],
      "text/latex": [
       "\\begin{enumerate*}\n",
       "\\item '1'\n",
       "\\item '2'\n",
       "\\item '3'\n",
       "\\item '4'\n",
       "\\item '5'\n",
       "\\item '6'\n",
       "\\item '7'\n",
       "\\item '8'\n",
       "\\item '9'\n",
       "\\item '10'\n",
       "\\item '11'\n",
       "\\item '12'\n",
       "\\item '13'\n",
       "\\item '14'\n",
       "\\item '15'\n",
       "\\item '16'\n",
       "\\item '17'\n",
       "\\item '18'\n",
       "\\item '19'\n",
       "\\item '20'\n",
       "\\item '21'\n",
       "\\item '22'\n",
       "\\item '23'\n",
       "\\item '24'\n",
       "\\item '25'\n",
       "\\item '26'\n",
       "\\item '27'\n",
       "\\item '28'\n",
       "\\item '29'\n",
       "\\item '30'\n",
       "\\end{enumerate*}\n"
      ],
      "text/markdown": [
       "1. '1'\n",
       "2. '2'\n",
       "3. '3'\n",
       "4. '4'\n",
       "5. '5'\n",
       "6. '6'\n",
       "7. '7'\n",
       "8. '8'\n",
       "9. '9'\n",
       "10. '10'\n",
       "11. '11'\n",
       "12. '12'\n",
       "13. '13'\n",
       "14. '14'\n",
       "15. '15'\n",
       "16. '16'\n",
       "17. '17'\n",
       "18. '18'\n",
       "19. '19'\n",
       "20. '20'\n",
       "21. '21'\n",
       "22. '22'\n",
       "23. '23'\n",
       "24. '24'\n",
       "25. '25'\n",
       "26. '26'\n",
       "27. '27'\n",
       "28. '28'\n",
       "29. '29'\n",
       "30. '30'\n",
       "\n",
       "\n"
      ],
      "text/plain": [
       " [1] \"1\"  \"2\"  \"3\"  \"4\"  \"5\"  \"6\"  \"7\"  \"8\"  \"9\"  \"10\" \"11\" \"12\" \"13\" \"14\" \"15\"\n",
       "[16] \"16\" \"17\" \"18\" \"19\" \"20\" \"21\" \"22\" \"23\" \"24\" \"25\" \"26\" \"27\" \"28\" \"29\" \"30\""
      ]
     },
     "metadata": {},
     "output_type": "display_data"
    }
   ],
   "source": [
    "levels(data$Rats)"
   ]
  },
  {
   "cell_type": "code",
   "execution_count": 10,
   "id": "copyrighted-characteristic",
   "metadata": {},
   "outputs": [
    {
     "data": {
      "text/plain": [
       "      Treatments    weights     \n",
       " Treatment1:30   Min.   :132.0  \n",
       " Treatment2:30   1st Qu.:190.2  \n",
       " Treatment3:30   Median :246.0  \n",
       " Treatment4:30   Mean   :242.6  \n",
       " Treatment5:30   3rd Qu.:295.8  \n",
       "                 Max.   :376.0  "
      ]
     },
     "metadata": {},
     "output_type": "display_data"
    }
   ],
   "source": [
    "data.modified$Treatments=factor(data.modified$Treatments)\n",
    "summary(data.modified)"
   ]
  },
  {
   "cell_type": "code",
   "execution_count": 11,
   "id": "departmental-throat",
   "metadata": {},
   "outputs": [
    {
     "data": {
      "text/html": [
       "<ol class=list-inline>\n",
       "\t<li>'Treatment1'</li>\n",
       "\t<li>'Treatment2'</li>\n",
       "\t<li>'Treatment3'</li>\n",
       "\t<li>'Treatment4'</li>\n",
       "\t<li>'Treatment5'</li>\n",
       "</ol>\n"
      ],
      "text/latex": [
       "\\begin{enumerate*}\n",
       "\\item 'Treatment1'\n",
       "\\item 'Treatment2'\n",
       "\\item 'Treatment3'\n",
       "\\item 'Treatment4'\n",
       "\\item 'Treatment5'\n",
       "\\end{enumerate*}\n"
      ],
      "text/markdown": [
       "1. 'Treatment1'\n",
       "2. 'Treatment2'\n",
       "3. 'Treatment3'\n",
       "4. 'Treatment4'\n",
       "5. 'Treatment5'\n",
       "\n",
       "\n"
      ],
      "text/plain": [
       "[1] \"Treatment1\" \"Treatment2\" \"Treatment3\" \"Treatment4\" \"Treatment5\""
      ]
     },
     "metadata": {},
     "output_type": "display_data"
    }
   ],
   "source": [
    "levels(data.modified$Treatments)"
   ]
  },
  {
   "cell_type": "code",
   "execution_count": 45,
   "id": "combined-sally",
   "metadata": {},
   "outputs": [
    {
     "data": {
      "image/png": "[encoded data removed]",
      "text/plain": [
       "Plot with title \"Boxplot of Weights Across Teatments\""
      ]
     },
     "metadata": {},
     "output_type": "display_data"
    }
   ],
   "source": [
    "boxplot(data.modified$weights~data.modified$Treatments,main=\"Boxplot of Weights Across Teatments\",xlab=\"Treatments\",ylab=\"Frequency\",ylim=c(100,380),las=1)"
   ]
  },
  {
   "cell_type": "markdown",
   "id": "separate-upper",
   "metadata": {},
   "source": [
    "As we can see, our data do consist ouliiers. Now to drop them or not is entirely upon ourselves and\n",
    "our model assumptions."
   ]
  },
  {
   "cell_type": "markdown",
   "id": "understood-animation",
   "metadata": {},
   "source": [
    "We can also see that weight measure due to natural reasons is cofounded with weight measure due to\n",
    "treatment effects."
   ]
  },
  {
   "cell_type": "code",
   "execution_count": 28,
   "id": "deadly-nickel",
   "metadata": {},
   "outputs": [
    {
     "data": {
      "image/png": "[encoded data removed]",
      "text/plain": [
       "Plot with title \"Weight Disribution Across Treatments\""
      ]
     },
     "metadata": {},
     "output_type": "display_data"
    }
   ],
   "source": [
    "hist(data.modified$weights,main=\"Weight Disribution Across Treatments\",xlab=\"Weights\",las=1)"
   ]
  },
  {
   "cell_type": "code",
   "execution_count": 13,
   "id": "wicked-reader",
   "metadata": {},
   "outputs": [
    {
     "data": {
      "text/html": [
       "<table>\n",
       "<thead><tr><th scope=col>Treatment1</th><th scope=col>Treatment2</th><th scope=col>Treatment3</th><th scope=col>Treatment4</th><th scope=col>Treatment5</th></tr></thead>\n",
       "<tbody>\n",
       "\t<tr><td>151</td><td>199</td><td>246</td><td>283</td><td>320</td></tr>\n",
       "\t<tr><td>145</td><td>199</td><td>249</td><td>293</td><td>354</td></tr>\n",
       "\t<tr><td>147</td><td>214</td><td>263</td><td>312</td><td>328</td></tr>\n",
       "\t<tr><td>155</td><td>200</td><td>237</td><td>272</td><td>297</td></tr>\n",
       "\t<tr><td>135</td><td>188</td><td>230</td><td>280</td><td>323</td></tr>\n",
       "\t<tr><td>159</td><td>210</td><td>252</td><td>298</td><td>331</td></tr>\n",
       "\t<tr><td>141</td><td>189</td><td>231</td><td>275</td><td>305</td></tr>\n",
       "\t<tr><td>159</td><td>201</td><td>248</td><td>297</td><td>338</td></tr>\n",
       "\t<tr><td>177</td><td>236</td><td>285</td><td>340</td><td>376</td></tr>\n",
       "\t<tr><td>134</td><td>182</td><td>220</td><td>260</td><td>296</td></tr>\n",
       "\t<tr><td>160</td><td>208</td><td>261</td><td>313</td><td>352</td></tr>\n",
       "\t<tr><td>143</td><td>188</td><td>220</td><td>273</td><td>314</td></tr>\n",
       "\t<tr><td>154</td><td>200</td><td>244</td><td>289</td><td>325</td></tr>\n",
       "\t<tr><td>171</td><td>221</td><td>270</td><td>326</td><td>358</td></tr>\n",
       "\t<tr><td>163</td><td>216</td><td>242</td><td>281</td><td>312</td></tr>\n",
       "\t<tr><td>160</td><td>207</td><td>248</td><td>288</td><td>324</td></tr>\n",
       "\t<tr><td>142</td><td>187</td><td>234</td><td>280</td><td>316</td></tr>\n",
       "\t<tr><td>156</td><td>203</td><td>243</td><td>283</td><td>317</td></tr>\n",
       "\t<tr><td>157</td><td>212</td><td>259</td><td>307</td><td>336</td></tr>\n",
       "\t<tr><td>152</td><td>203</td><td>246</td><td>286</td><td>321</td></tr>\n",
       "\t<tr><td>154</td><td>205</td><td>253</td><td>298</td><td>334</td></tr>\n",
       "\t<tr><td>139</td><td>190</td><td>225</td><td>267</td><td>302</td></tr>\n",
       "\t<tr><td>146</td><td>191</td><td>229</td><td>272</td><td>302</td></tr>\n",
       "\t<tr><td>157</td><td>211</td><td>250</td><td>285</td><td>323</td></tr>\n",
       "\t<tr><td>132</td><td>185</td><td>237</td><td>286</td><td>331</td></tr>\n",
       "\t<tr><td>160</td><td>207</td><td>257</td><td>303</td><td>345</td></tr>\n",
       "\t<tr><td>169</td><td>216</td><td>261</td><td>295</td><td>333</td></tr>\n",
       "\t<tr><td>157</td><td>205</td><td>248</td><td>289</td><td>316</td></tr>\n",
       "\t<tr><td>137</td><td>180</td><td>219</td><td>258</td><td>291</td></tr>\n",
       "\t<tr><td>153</td><td>200</td><td>244</td><td>286</td><td>324</td></tr>\n",
       "</tbody>\n",
       "</table>\n"
      ],
      "text/latex": [
       "\\begin{tabular}{r|lllll}\n",
       " Treatment1 & Treatment2 & Treatment3 & Treatment4 & Treatment5\\\\\n",
       "\\hline\n",
       "\t 151 & 199 & 246 & 283 & 320\\\\\n",
       "\t 145 & 199 & 249 & 293 & 354\\\\\n",
       "\t 147 & 214 & 263 & 312 & 328\\\\\n",
       "\t 155 & 200 & 237 & 272 & 297\\\\\n",
       "\t 135 & 188 & 230 & 280 & 323\\\\\n",
       "\t 159 & 210 & 252 & 298 & 331\\\\\n",
       "\t 141 & 189 & 231 & 275 & 305\\\\\n",
       "\t 159 & 201 & 248 & 297 & 338\\\\\n",
       "\t 177 & 236 & 285 & 340 & 376\\\\\n",
       "\t 134 & 182 & 220 & 260 & 296\\\\\n",
       "\t 160 & 208 & 261 & 313 & 352\\\\\n",
       "\t 143 & 188 & 220 & 273 & 314\\\\\n",
       "\t 154 & 200 & 244 & 289 & 325\\\\\n",
       "\t 171 & 221 & 270 & 326 & 358\\\\\n",
       "\t 163 & 216 & 242 & 281 & 312\\\\\n",
       "\t 160 & 207 & 248 & 288 & 324\\\\\n",
       "\t 142 & 187 & 234 & 280 & 316\\\\\n",
       "\t 156 & 203 & 243 & 283 & 317\\\\\n",
       "\t 157 & 212 & 259 & 307 & 336\\\\\n",
       "\t 152 & 203 & 246 & 286 & 321\\\\\n",
       "\t 154 & 205 & 253 & 298 & 334\\\\\n",
       "\t 139 & 190 & 225 & 267 & 302\\\\\n",
       "\t 146 & 191 & 229 & 272 & 302\\\\\n",
       "\t 157 & 211 & 250 & 285 & 323\\\\\n",
       "\t 132 & 185 & 237 & 286 & 331\\\\\n",
       "\t 160 & 207 & 257 & 303 & 345\\\\\n",
       "\t 169 & 216 & 261 & 295 & 333\\\\\n",
       "\t 157 & 205 & 248 & 289 & 316\\\\\n",
       "\t 137 & 180 & 219 & 258 & 291\\\\\n",
       "\t 153 & 200 & 244 & 286 & 324\\\\\n",
       "\\end{tabular}\n"
      ],
      "text/markdown": [
       "\n",
       "| Treatment1 | Treatment2 | Treatment3 | Treatment4 | Treatment5 |\n",
       "|---|---|---|---|---|\n",
       "| 151 | 199 | 246 | 283 | 320 |\n",
       "| 145 | 199 | 249 | 293 | 354 |\n",
       "| 147 | 214 | 263 | 312 | 328 |\n",
       "| 155 | 200 | 237 | 272 | 297 |\n",
       "| 135 | 188 | 230 | 280 | 323 |\n",
       "| 159 | 210 | 252 | 298 | 331 |\n",
       "| 141 | 189 | 231 | 275 | 305 |\n",
       "| 159 | 201 | 248 | 297 | 338 |\n",
       "| 177 | 236 | 285 | 340 | 376 |\n",
       "| 134 | 182 | 220 | 260 | 296 |\n",
       "| 160 | 208 | 261 | 313 | 352 |\n",
       "| 143 | 188 | 220 | 273 | 314 |\n",
       "| 154 | 200 | 244 | 289 | 325 |\n",
       "| 171 | 221 | 270 | 326 | 358 |\n",
       "| 163 | 216 | 242 | 281 | 312 |\n",
       "| 160 | 207 | 248 | 288 | 324 |\n",
       "| 142 | 187 | 234 | 280 | 316 |\n",
       "| 156 | 203 | 243 | 283 | 317 |\n",
       "| 157 | 212 | 259 | 307 | 336 |\n",
       "| 152 | 203 | 246 | 286 | 321 |\n",
       "| 154 | 205 | 253 | 298 | 334 |\n",
       "| 139 | 190 | 225 | 267 | 302 |\n",
       "| 146 | 191 | 229 | 272 | 302 |\n",
       "| 157 | 211 | 250 | 285 | 323 |\n",
       "| 132 | 185 | 237 | 286 | 331 |\n",
       "| 160 | 207 | 257 | 303 | 345 |\n",
       "| 169 | 216 | 261 | 295 | 333 |\n",
       "| 157 | 205 | 248 | 289 | 316 |\n",
       "| 137 | 180 | 219 | 258 | 291 |\n",
       "| 153 | 200 | 244 | 286 | 324 |\n",
       "\n"
      ],
      "text/plain": [
       "   Treatment1 Treatment2 Treatment3 Treatment4 Treatment5\n",
       "1  151        199        246        283        320       \n",
       "2  145        199        249        293        354       \n",
       "3  147        214        263        312        328       \n",
       "4  155        200        237        272        297       \n",
       "5  135        188        230        280        323       \n",
       "6  159        210        252        298        331       \n",
       "7  141        189        231        275        305       \n",
       "8  159        201        248        297        338       \n",
       "9  177        236        285        340        376       \n",
       "10 134        182        220        260        296       \n",
       "11 160        208        261        313        352       \n",
       "12 143        188        220        273        314       \n",
       "13 154        200        244        289        325       \n",
       "14 171        221        270        326        358       \n",
       "15 163        216        242        281        312       \n",
       "16 160        207        248        288        324       \n",
       "17 142        187        234        280        316       \n",
       "18 156        203        243        283        317       \n",
       "19 157        212        259        307        336       \n",
       "20 152        203        246        286        321       \n",
       "21 154        205        253        298        334       \n",
       "22 139        190        225        267        302       \n",
       "23 146        191        229        272        302       \n",
       "24 157        211        250        285        323       \n",
       "25 132        185        237        286        331       \n",
       "26 160        207        257        303        345       \n",
       "27 169        216        261        295        333       \n",
       "28 157        205        248        289        316       \n",
       "29 137        180        219        258        291       \n",
       "30 153        200        244        286        324       "
      ]
     },
     "metadata": {},
     "output_type": "display_data"
    }
   ],
   "source": [
    "data_matrix<-rbind(data[,2:6])   \n",
    "data_matrix"
   ]
  },
  {
   "cell_type": "code",
   "execution_count": 14,
   "id": "devoted-moldova",
   "metadata": {},
   "outputs": [
    {
     "data": {
      "text/html": [
       "<table>\n",
       "<tbody>\n",
       "\t<tr><th scope=row>Treatment1</th><td>151</td><td>145</td><td>147</td><td>155</td><td>135</td><td>159</td><td>141</td><td>159</td><td>177</td><td>134</td><td>...</td><td>154</td><td>139</td><td>146</td><td>157</td><td>132</td><td>160</td><td>169</td><td>157</td><td>137</td><td>153</td></tr>\n",
       "\t<tr><th scope=row>Treatment2</th><td>199</td><td>199</td><td>214</td><td>200</td><td>188</td><td>210</td><td>189</td><td>201</td><td>236</td><td>182</td><td>...</td><td>205</td><td>190</td><td>191</td><td>211</td><td>185</td><td>207</td><td>216</td><td>205</td><td>180</td><td>200</td></tr>\n",
       "\t<tr><th scope=row>Treatment3</th><td>246</td><td>249</td><td>263</td><td>237</td><td>230</td><td>252</td><td>231</td><td>248</td><td>285</td><td>220</td><td>...</td><td>253</td><td>225</td><td>229</td><td>250</td><td>237</td><td>257</td><td>261</td><td>248</td><td>219</td><td>244</td></tr>\n",
       "\t<tr><th scope=row>Treatment4</th><td>283</td><td>293</td><td>312</td><td>272</td><td>280</td><td>298</td><td>275</td><td>297</td><td>340</td><td>260</td><td>...</td><td>298</td><td>267</td><td>272</td><td>285</td><td>286</td><td>303</td><td>295</td><td>289</td><td>258</td><td>286</td></tr>\n",
       "\t<tr><th scope=row>Treatment5</th><td>320</td><td>354</td><td>328</td><td>297</td><td>323</td><td>331</td><td>305</td><td>338</td><td>376</td><td>296</td><td>...</td><td>334</td><td>302</td><td>302</td><td>323</td><td>331</td><td>345</td><td>333</td><td>316</td><td>291</td><td>324</td></tr>\n",
       "</tbody>\n",
       "</table>\n"
      ],
      "text/latex": [
       "\\begin{tabular}{r|llllllllllllllllllllllllllllll}\n",
       "\tTreatment1 & 151 & 145 & 147 & 155 & 135 & 159 & 141 & 159 & 177 & 134 & ... & 154 & 139 & 146 & 157 & 132 & 160 & 169 & 157 & 137 & 153\\\\\n",
       "\tTreatment2 & 199 & 199 & 214 & 200 & 188 & 210 & 189 & 201 & 236 & 182 & ... & 205 & 190 & 191 & 211 & 185 & 207 & 216 & 205 & 180 & 200\\\\\n",
       "\tTreatment3 & 246 & 249 & 263 & 237 & 230 & 252 & 231 & 248 & 285 & 220 & ... & 253 & 225 & 229 & 250 & 237 & 257 & 261 & 248 & 219 & 244\\\\\n",
       "\tTreatment4 & 283 & 293 & 312 & 272 & 280 & 298 & 275 & 297 & 340 & 260 & ... & 298 & 267 & 272 & 285 & 286 & 303 & 295 & 289 & 258 & 286\\\\\n",
       "\tTreatment5 & 320 & 354 & 328 & 297 & 323 & 331 & 305 & 338 & 376 & 296 & ... & 334 & 302 & 302 & 323 & 331 & 345 & 333 & 316 & 291 & 324\\\\\n",
       "\\end{tabular}\n"
      ],
      "text/markdown": [
       "\n",
       "| Treatment1 | 151 | 145 | 147 | 155 | 135 | 159 | 141 | 159 | 177 | 134 | ... | 154 | 139 | 146 | 157 | 132 | 160 | 169 | 157 | 137 | 153 |\n",
       "| Treatment2 | 199 | 199 | 214 | 200 | 188 | 210 | 189 | 201 | 236 | 182 | ... | 205 | 190 | 191 | 211 | 185 | 207 | 216 | 205 | 180 | 200 |\n",
       "| Treatment3 | 246 | 249 | 263 | 237 | 230 | 252 | 231 | 248 | 285 | 220 | ... | 253 | 225 | 229 | 250 | 237 | 257 | 261 | 248 | 219 | 244 |\n",
       "| Treatment4 | 283 | 293 | 312 | 272 | 280 | 298 | 275 | 297 | 340 | 260 | ... | 298 | 267 | 272 | 285 | 286 | 303 | 295 | 289 | 258 | 286 |\n",
       "| Treatment5 | 320 | 354 | 328 | 297 | 323 | 331 | 305 | 338 | 376 | 296 | ... | 334 | 302 | 302 | 323 | 331 | 345 | 333 | 316 | 291 | 324 |\n",
       "\n"
      ],
      "text/plain": [
       "           [,1] [,2] [,3] [,4] [,5] [,6] [,7] [,8] [,9] [,10] [,11] [,12] [,13]\n",
       "Treatment1 151  145  147  155  135  159  141  159  177  134   ...   154   139  \n",
       "Treatment2 199  199  214  200  188  210  189  201  236  182   ...   205   190  \n",
       "Treatment3 246  249  263  237  230  252  231  248  285  220   ...   253   225  \n",
       "Treatment4 283  293  312  272  280  298  275  297  340  260   ...   298   267  \n",
       "Treatment5 320  354  328  297  323  331  305  338  376  296   ...   334   302  \n",
       "           [,14] [,15] [,16] [,17] [,18] [,19] [,20] [,21]\n",
       "Treatment1 146   157   132   160   169   157   137   153  \n",
       "Treatment2 191   211   185   207   216   205   180   200  \n",
       "Treatment3 229   250   237   257   261   248   219   244  \n",
       "Treatment4 272   285   286   303   295   289   258   286  \n",
       "Treatment5 302   323   331   345   333   316   291   324  "
      ]
     },
     "metadata": {},
     "output_type": "display_data"
    }
   ],
   "source": [
    "data_frame=t(data_matrix)   #taking transpose of the data matrix  \n",
    "data_frame"
   ]
  },
  {
   "cell_type": "code",
   "execution_count": 37,
   "id": "banner-driving",
   "metadata": {},
   "outputs": [
    {
     "data": {
      "text/plain": [
       "\n",
       "Call:\n",
       "lm(formula = weights ~ Treatments, data = data.modified)\n",
       "\n",
       "Coefficients:\n",
       "         (Intercept)  TreatmentsTreatment2  TreatmentsTreatment3  \n",
       "              152.17                 49.60                 92.87  \n",
       "TreatmentsTreatment4  TreatmentsTreatment5  \n",
       "              137.00                172.63  \n"
      ]
     },
     "metadata": {},
     "output_type": "display_data"
    }
   ],
   "source": [
    "#fitting y_ij=mu+alpha_i+epshilon_ij\n",
    "weights.model<-lm(weights~Treatments,data=data.modified)\n",
    "weights.model"
   ]
  },
  {
   "cell_type": "markdown",
   "id": "rental-harvey",
   "metadata": {},
   "source": [
    "Treatment 1 taken as bechmark and hence dropped to accquire consisent solutions and\n",
    "linearly independant model marix"
   ]
  },
  {
   "cell_type": "code",
   "execution_count": 34,
   "id": "federal-drove",
   "metadata": {},
   "outputs": [
    {
     "data": {
      "text/plain": [
       "\n",
       "Call:\n",
       "lm(formula = weights ~ Treatments - 1, data = data.modified)\n",
       "\n",
       "Coefficients:\n",
       "TreatmentsTreatment1  TreatmentsTreatment2  TreatmentsTreatment3  \n",
       "               152.2                 201.8                 245.0  \n",
       "TreatmentsTreatment4  TreatmentsTreatment5  \n",
       "               289.2                 324.8  \n"
      ]
     },
     "metadata": {},
     "output_type": "display_data"
    }
   ],
   "source": [
    "#to get the additional effect due to treatment 1\n",
    "weights.model.new<-lm(weights~Treatments-1,data=data.modified)\n",
    "weights.model.new"
   ]
  },
  {
   "cell_type": "code",
   "execution_count": 8,
   "id": "varied-render",
   "metadata": {},
   "outputs": [
    {
     "data": {
      "text/plain": [
       "\n",
       "Call:\n",
       "lm(formula = weights ~ Treatments, data = data.modified)\n",
       "\n",
       "Residuals:\n",
       "    Min      1Q  Median      3Q     Max \n",
       "-33.800 -10.617  -0.467   7.833  51.200 \n",
       "\n",
       "Coefficients:\n",
       "                     Estimate Std. Error t value Pr(>|t|)    \n",
       "(Intercept)           152.167      2.862   53.17   <2e-16 ***\n",
       "TreatmentsTreatment2   49.600      4.048   12.25   <2e-16 ***\n",
       "TreatmentsTreatment3   92.867      4.048   22.94   <2e-16 ***\n",
       "TreatmentsTreatment4  137.000      4.048   33.85   <2e-16 ***\n",
       "TreatmentsTreatment5  172.633      4.048   42.65   <2e-16 ***\n",
       "---\n",
       "Signif. codes:  0 '***' 0.001 '**' 0.01 '*' 0.05 '.' 0.1 ' ' 1\n",
       "\n",
       "Residual standard error: 15.68 on 145 degrees of freedom\n",
       "Multiple R-squared:  0.9405,\tAdjusted R-squared:  0.9389 \n",
       "F-statistic:   573 on 4 and 145 DF,  p-value: < 2.2e-16\n"
      ]
     },
     "metadata": {},
     "output_type": "display_data"
    }
   ],
   "source": [
    "summary(weights.model)"
   ]
  },
  {
   "cell_type": "code",
   "execution_count": 35,
   "id": "adjacent-aside",
   "metadata": {},
   "outputs": [
    {
     "data": {
      "text/plain": [
       "\n",
       "Call:\n",
       "lm(formula = weights ~ Treatments - 1, data = data.modified)\n",
       "\n",
       "Residuals:\n",
       "    Min      1Q  Median      3Q     Max \n",
       "-33.800 -10.617  -0.467   7.833  51.200 \n",
       "\n",
       "Coefficients:\n",
       "                     Estimate Std. Error t value Pr(>|t|)    \n",
       "TreatmentsTreatment1  152.167      2.862   53.17   <2e-16 ***\n",
       "TreatmentsTreatment2  201.767      2.862   70.50   <2e-16 ***\n",
       "TreatmentsTreatment3  245.033      2.862   85.61   <2e-16 ***\n",
       "TreatmentsTreatment4  289.167      2.862  101.03   <2e-16 ***\n",
       "TreatmentsTreatment5  324.800      2.862  113.48   <2e-16 ***\n",
       "---\n",
       "Signif. codes:  0 '***' 0.001 '**' 0.01 '*' 0.05 '.' 0.1 ' ' 1\n",
       "\n",
       "Residual standard error: 15.68 on 145 degrees of freedom\n",
       "Multiple R-squared:  0.9962,\tAdjusted R-squared:  0.9961 \n",
       "F-statistic:  7642 on 5 and 145 DF,  p-value: < 2.2e-16\n"
      ]
     },
     "metadata": {},
     "output_type": "display_data"
    }
   ],
   "source": [
    "summary(weights.model.new)"
   ]
  },
  {
   "cell_type": "code",
   "execution_count": 39,
   "id": "heated-mistake",
   "metadata": {},
   "outputs": [
    {
     "data": {
      "text/html": [
       "<table>\n",
       "<thead><tr><th></th><th scope=col>Df</th><th scope=col>Sum Sq</th><th scope=col>Mean Sq</th><th scope=col>F value</th><th scope=col>Pr(&gt;F)</th></tr></thead>\n",
       "<tbody>\n",
       "\t<tr><th scope=row>Treatments</th><td>  4         </td><td>563302.91   </td><td>140825.727  </td><td>573.0492    </td><td>9.764113e-88</td></tr>\n",
       "\t<tr><th scope=row>Residuals</th><td>145         </td><td> 35633.47   </td><td>   245.748  </td><td>      NA    </td><td>          NA</td></tr>\n",
       "</tbody>\n",
       "</table>\n"
      ],
      "text/latex": [
       "\\begin{tabular}{r|lllll}\n",
       "  & Df & Sum Sq & Mean Sq & F value & Pr(>F)\\\\\n",
       "\\hline\n",
       "\tTreatments &   4          & 563302.91    & 140825.727   & 573.0492     & 9.764113e-88\\\\\n",
       "\tResiduals & 145          &  35633.47    &    245.748   &       NA     &           NA\\\\\n",
       "\\end{tabular}\n"
      ],
      "text/markdown": [
       "\n",
       "| <!--/--> | Df | Sum Sq | Mean Sq | F value | Pr(>F) |\n",
       "|---|---|---|---|---|---|\n",
       "| Treatments |   4          | 563302.91    | 140825.727   | 573.0492     | 9.764113e-88 |\n",
       "| Residuals | 145          |  35633.47    |    245.748   |       NA     |           NA |\n",
       "\n"
      ],
      "text/plain": [
       "           Df  Sum Sq    Mean Sq    F value  Pr(>F)      \n",
       "Treatments   4 563302.91 140825.727 573.0492 9.764113e-88\n",
       "Residuals  145  35633.47    245.748       NA           NA"
      ]
     },
     "metadata": {},
     "output_type": "display_data"
    }
   ],
   "source": [
    "anova(weights.model)"
   ]
  },
  {
   "cell_type": "code",
   "execution_count": 40,
   "id": "marked-investigator",
   "metadata": {},
   "outputs": [
    {
     "data": {
      "text/html": [
       "<table>\n",
       "<thead><tr><th></th><th scope=col>Df</th><th scope=col>Sum Sq</th><th scope=col>Mean Sq</th><th scope=col>F value</th><th scope=col>Pr(&gt;F)</th></tr></thead>\n",
       "<tbody>\n",
       "\t<tr><th scope=row>Treatments</th><td>  5          </td><td>9390546.53   </td><td>1878109.307  </td><td>7642.418     </td><td>1.111571e-173</td></tr>\n",
       "\t<tr><th scope=row>Residuals</th><td>145          </td><td>  35633.47   </td><td>    245.748  </td><td>      NA     </td><td>           NA</td></tr>\n",
       "</tbody>\n",
       "</table>\n"
      ],
      "text/latex": [
       "\\begin{tabular}{r|lllll}\n",
       "  & Df & Sum Sq & Mean Sq & F value & Pr(>F)\\\\\n",
       "\\hline\n",
       "\tTreatments &   5           & 9390546.53    & 1878109.307   & 7642.418      & 1.111571e-173\\\\\n",
       "\tResiduals & 145           &   35633.47    &     245.748   &       NA      &            NA\\\\\n",
       "\\end{tabular}\n"
      ],
      "text/markdown": [
       "\n",
       "| <!--/--> | Df | Sum Sq | Mean Sq | F value | Pr(>F) |\n",
       "|---|---|---|---|---|---|\n",
       "| Treatments |   5           | 9390546.53    | 1878109.307   | 7642.418      | 1.111571e-173 |\n",
       "| Residuals | 145           |   35633.47    |     245.748   |       NA      |            NA |\n",
       "\n"
      ],
      "text/plain": [
       "           Df  Sum Sq     Mean Sq     F value  Pr(>F)       \n",
       "Treatments   5 9390546.53 1878109.307 7642.418 1.111571e-173\n",
       "Residuals  145   35633.47     245.748       NA            NA"
      ]
     },
     "metadata": {},
     "output_type": "display_data"
    }
   ],
   "source": [
    "anova(weights.model.new)"
   ]
  },
  {
   "cell_type": "markdown",
   "id": "destroyed-prescription",
   "metadata": {},
   "source": [
    "as we can see, Treatment 5 has the best additional effect over others. \n",
    "and our much much small p-value tells us that treatment means do differ & a F statistics of\n",
    "numerical value 573.05 do confirm our assumption.  "
   ]
  },
  {
   "cell_type": "markdown",
   "id": "dress-infrared",
   "metadata": {},
   "source": [
    "we must also keep in mind that this analysis is solely based on our assumptions that there are no\n",
    "condfounding  effects. If we do need to cosider the conunding effect, we nee to redo the experiment\n",
    "and design it accordingly."
   ]
  }
 ],
 "metadata": {
  "kernelspec": {
   "display_name": "R",
   "language": "R",
   "name": "ir"
  },
  "language_info": {
   "codemirror_mode": "r",
   "file_extension": ".r",
   "mimetype": "text/x-r-source",
   "name": "R",
   "pygments_lexer": "r",
   "version": "3.6.1"
  }
 },
 "nbformat": 4,
 "nbformat_minor": 5
}
